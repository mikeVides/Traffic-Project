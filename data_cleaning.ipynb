{
 "cells": [
  {
   "cell_type": "code",
   "execution_count": 1,
   "metadata": {},
   "outputs": [],
   "source": [
    "import pandas as pd"
   ]
  },
  {
   "cell_type": "code",
   "execution_count": null,
   "metadata": {},
   "outputs": [],
   "source": [
    "\"\"\" Replace this with your file path \"\"\"\n",
    "df = pd.read_csv ('C:/Users/jidax/Desktop/Data Project/Data Prep/traffic_accidents.csv')"
   ]
  },
  {
   "cell_type": "markdown",
   "metadata": {},
   "source": [
    "Quick Overview of Data"
   ]
  },
  {
   "cell_type": "code",
   "execution_count": null,
   "metadata": {},
   "outputs": [],
   "source": [
    "print(f\"Shape: {df.shape}\")\n",
    "print(df.head())"
   ]
  },
  {
   "cell_type": "markdown",
   "metadata": {},
   "source": [
    "Checking for Null Values"
   ]
  },
  {
   "cell_type": "code",
   "execution_count": null,
   "metadata": {},
   "outputs": [],
   "source": [
    "null_counts = df.isnull().sum()\n",
    "columns_with_nulls = null_counts[null_counts > 0]\n",
    "\n",
    "if len(columns_with_nulls) > 0:\n",
    "    print('Columns with null Values:')\n",
    "    for col, count in columns_with_nulls.items():\n",
    "        print(f\"{col}: {count} nulls ({count/len(df)*100:.2f}%)\")\n",
    "\n",
    "    rows_with_nulls = df.isnull().any(axis=1).sum()\n",
    "    print(f\"\\nTotal rows with nulls: {rows_with_nulls} ({rows_with_nulls/len(df)*100:.2f}%)\")\n",
    "else:\n",
    "    print(\"No null values were found in Traffic Accidents.\")\n",
    "\n"
   ]
  }
 ],
 "metadata": {
  "kernelspec": {
   "display_name": "Traffic_Project",
   "language": "python",
   "name": "python3"
  },
  "language_info": {
   "codemirror_mode": {
    "name": "ipython",
    "version": 3
   },
   "file_extension": ".py",
   "mimetype": "text/x-python",
   "name": "python",
   "nbconvert_exporter": "python",
   "pygments_lexer": "ipython3",
   "version": "3.13.2"
  }
 },
 "nbformat": 4,
 "nbformat_minor": 2
}
